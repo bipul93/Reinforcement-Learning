{
 "cells": [
  {
   "cell_type": "markdown",
   "metadata": {
    "colab_type": "text",
    "id": "5p-Y70gWmIQd"
   },
   "source": [
    "<h6>Project 1 - Building Reinforcement Learning Environment</h6>\n",
    "<small>By: Bipul Kumar</small>"
   ]
  },
  {
   "cell_type": "code",
   "execution_count": 1,
   "metadata": {
    "colab": {},
    "colab_type": "code",
    "id": "HHJP7q6hmr5j"
   },
   "outputs": [],
   "source": [
    "import numpy as np\n",
    "import matplotlib.pyplot as plt\n",
    "#Global Configurations"
   ]
  },
  {
   "cell_type": "markdown",
   "metadata": {
    "colab_type": "text",
    "id": "qQZSb8_bftBd"
   },
   "source": [
    "**Environment**\n",
    "\n",
    "<h6>Deterministic and Stochastic</h6>\n",
    "<p>based on environmtnt paramater; Environment can be either deterministic or stochastic</p>\n",
    "<p></p>"
   ]
  },
  {
   "cell_type": "code",
   "execution_count": 2,
   "metadata": {
    "colab": {},
    "colab_type": "code",
    "id": "raoc6tHCmz9o"
   },
   "outputs": [],
   "source": [
    "class Environment():\n",
    "  def __init__(self, size=5, stochastic=False):\n",
    "    self.size = size\n",
    "    self.observations = np.zeros((self.size, self.size))\n",
    "    self.actions = np.arange(4) #[\"up\", \"down\", \"left\", \"right\"]\n",
    "    self.max_timesteps = size*2 + 1\n",
    "    self.stochastic = stochastic\n",
    "\n",
    "    # State transition table\n",
    "    self.transition_matrix = []\n",
    "    for x in range(size + 1):\n",
    "        state_x = []\n",
    "        for y in range(size + 1):\n",
    "            state_y = []\n",
    "            for a in range(4):\n",
    "                one_hot = np.zeros(4)\n",
    "                one_hot[a] = 1\n",
    "                state_y.append(one_hot)\n",
    "            state_x.append(state_y)\n",
    "        self.transition_matrix.append(state_x)\n",
    "#     print(np.asarray(self.transition_matrix))\n",
    "        \n",
    "  def transition_func(self, x, y, action, return_probs=False):\n",
    "      probs = self.transition_matrix[x][y][action]\n",
    "      if return_probs:\n",
    "          return probs\n",
    "      else:\n",
    "          return np.random.choice(len(probs), p=probs)\n",
    "\n",
    "  def step(self, action):\n",
    "    # import pdb\n",
    "    # pdb.set_trace()\n",
    "    if self.stochastic:\n",
    "      action_taken = self.transition_func(self.agent_pos[0], self.agent_pos[1], action)\n",
    "    else:\n",
    "      action_taken = action\n",
    "\n",
    "    #[\"up\", \"down\", \"left\", \"right\"]\n",
    "    if action_taken == 1:\n",
    "        self.agent_pos[0] += 1\n",
    "    elif action_taken == 0:\n",
    "        self.agent_pos[0] -= 1\n",
    "    elif action_taken == 3:\n",
    "        self.agent_pos[1] += 1\n",
    "    elif action_taken == 2:\n",
    "        self.agent_pos[1] -= 1\n",
    "      \n",
    "    self.agent_pos = np.clip(self.agent_pos, 0, self.size-1)\n",
    "    self.state = np.zeros((self.size, self.size))\n",
    "\n",
    "    self.state[tuple(self.agent_pos)] = 1\n",
    "    self.state[tuple(self.goal_pos)] = 0.5\n",
    "    self.state[tuple(self.block_pos)] = 0.3\n",
    "    \n",
    "    #Rewards\n",
    "    if np.array_equiv(self.agent_pos, self.goal_pos):\n",
    "        reward = 10\n",
    "        done = True\n",
    "    elif np.array_equiv(self.agent_pos, self.block_pos):\n",
    "        reward = -10\n",
    "        done = True\n",
    "    else:\n",
    "        reward = -1\n",
    "        done = False\n",
    "\n",
    "    return self.agent_pos, reward, done\n",
    "\n",
    "  def reset(self):\n",
    "    self.timestep = 0\n",
    "    self.agent_pos = [0, 0]\n",
    "    self.goal_pos = [self.size-1, self.size-1]\n",
    "    self.block_pos = [2, 2]\n",
    "    self.state = np.zeros((self.size, self.size))\n",
    "    self.state[tuple(self.agent_pos)] = 1\n",
    "    self.state[tuple(self.goal_pos)] = 0.5\n",
    "    self.state[tuple(self.block_pos)] = 0.3\n",
    "    return np.array(self.agent_pos)/1.\n",
    "\n",
    "  def render(self):\n",
    "    plt.figure()\n",
    "    plt.imshow(self.state)\n"
   ]
  },
  {
   "cell_type": "code",
   "execution_count": 3,
   "metadata": {
    "colab": {
     "base_uri": "https://localhost:8080/",
     "height": 1000
    },
    "colab_type": "code",
    "id": "S4XLIoAwKnw9",
    "outputId": "bf35a31a-66d3-4685-a82c-470ee1584c71"
   },
   "outputs": [
    {
     "data": {
      "image/png": "[encoded data removed]",
      "text/plain": [
       "<Figure size 432x288 with 1 Axes>"
      ]
     },
     "metadata": {
      "needs_background": "light"
     },
     "output_type": "display_data"
    }
   ],
   "source": [
    "env = Environment()\n",
    "env.reset()\n",
    "env.render()"
   ]
  },
  {
   "cell_type": "markdown",
   "metadata": {
    "colab_type": "text",
    "id": "Wm_iBbzDgKp-"
   },
   "source": [
    "**Tabular methood - SARSA**\n",
    "\n",
    "\n",
    "![image.png](data:image/png;base64,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)"
   ]
  },
  {
   "cell_type": "code",
   "execution_count": 4,
   "metadata": {
    "colab": {},
    "colab_type": "code",
    "id": "SNkBghOFT2Qg"
   },
   "outputs": [],
   "source": [
    "class SARSA_Agent():\n",
    "  def __init__(self, environment, expected):\n",
    "    self.environment = environment\n",
    "    self.actions = environment.actions\n",
    "    self.expected = expected\n",
    "    #Hyper parameters\n",
    "    self.epsilon = 1.0\n",
    "    self.learning_rate = 0.1\n",
    "    self.gamma = 0.99\n",
    "    #Q-table\n",
    "    self.q_table = np.zeros((environment.size, environment.size, len(environment.actions)))\n",
    "\n",
    "  def step(self, observation):\n",
    "    if np.random.uniform(0, 1) < self.epsilon:\n",
    "      # select random action\n",
    "      action = np.random.choice(self.actions, 1)[0]\n",
    "    else:\n",
    "      # action with max reward\n",
    "      action = np.argmax(self.q_table[observation[0], observation[1], :])\n",
    "    return action\n",
    "\n",
    "  def update(self, state, action, reward, next_state):\n",
    "    state = state.astype(int)\n",
    "    action = action.astype(int)\n",
    "    next_state = next_state.astype(int)\n",
    "    # Update Q-table\n",
    "    # print(state, action, next_state)\n",
    "    if(not self.expected):\n",
    "      self.q_table[state[0], state[1], action] = self.q_table[state[0], state[1], action] + self.learning_rate * (reward + self.gamma * (self.q_table[next_state[0], next_state[1], action]) - self.q_table[state[0], state[1], action] )\n",
    "    else:\n",
    "      self.q_table[state[0], state[1], action] = self.q_table[state[0], state[1], action] + self.learning_rate * (reward + self.gamma * np.mean(self.q_table[next_state[0], next_state[1], :]) - self.q_table[state[0], state[1], action] )\n",
    "  def set_epsilon(self, epsilon):\n",
    "    self.epsilon = epsilon\n"
   ]
  },
  {
   "cell_type": "markdown",
   "metadata": {
    "colab_type": "text",
    "id": "rCF_rIvPug4V"
   },
   "source": [
    "**Training in stochastic environment**"
   ]
  },
  {
   "cell_type": "code",
   "execution_count": 5,
   "metadata": {
    "colab": {},
    "colab_type": "code",
    "id": "yB8Cmct9WuyQ"
   },
   "outputs": [],
   "source": [
    "environment = Environment(stochastic=True)\n",
    "agent = SARSA_Agent(environment, False)\n",
    "episodes = 500\n",
    "\n",
    "total_rewards = []\n",
    "epsilons = [agent.epsilon]\n",
    "\n",
    "for episode in range(episodes):\n",
    "  obs = environment.reset()\n",
    "  done = False\n",
    "  r = 0\n",
    "\n",
    "  while not done:\n",
    "    current_state = obs.copy()\n",
    "    action = agent.step(current_state.astype(int))\n",
    "    obs, reward, done = environment.step(action)\n",
    "    agent.update(current_state, action, reward, obs)\n",
    "    r += reward\n",
    "  agent.set_epsilon(max(0.005, agent.epsilon*0.99)) # decay epsilon\n",
    "  epsilons.append(agent.epsilon)\n",
    "  total_rewards.append(r)"
   ]
  },
  {
   "cell_type": "code",
   "execution_count": 6,
   "metadata": {
    "colab": {
     "base_uri": "https://localhost:8080/",
     "height": 789
    },
    "colab_type": "code",
    "id": "DUONPBJln7HL",
    "outputId": "998cbeff-9704-41d7-c5b4-30cd56e42aa5"
   },
   "outputs": [
    {
     "name": "stdout",
     "output_type": "stream",
     "text": [
      "[[[-6.67055406 -5.56022984 -5.73210588 -5.56021991]\n",
      "  [-4.7842214  -4.63907613 -4.89565824 -4.6064393 ]\n",
      "  [-3.82680573 -5.35219843 -4.10634853 -3.64290262]\n",
      "  [-2.85976304 -2.72847343 -2.97340268 -2.66960281]\n",
      "  [-1.58805582  6.73288573 -1.99442961 -1.68646776]]\n",
      "\n",
      " [[-5.95818012 -4.60643543 -4.68891031 -4.63154975]\n",
      "  [-4.06512783 -3.97308766 -4.08731926 -3.96764864]\n",
      "  [-3.35195603 -6.5132156  -3.2004848  -3.20867342]\n",
      "  [-2.56824016 -2.46379283 -2.63311234 -2.41010345]\n",
      "  [-1.45928859  7.81099963 -2.03207222 -1.58805582]]\n",
      "\n",
      " [[-4.45216247 -3.64290065 -4.01905595 -7.51688192]\n",
      "  [-3.43616865 -3.41858376 -3.40874674 -8.49905365]\n",
      "  [ 0.          0.          0.          0.        ]\n",
      "  [-2.06362954 -2.07354994 -6.12579511 -2.05688679]\n",
      "  [-1.65971904  8.89999997 -5.33169486 -1.88299651]]\n",
      "\n",
      " [[-3.67318967 -2.66960265 -3.05394637 -2.74467585]\n",
      "  [-2.74940992 -2.68811692 -2.81987516 -2.70923236]\n",
      "  [-4.0951     -2.13951218 -2.10645828 -2.13315485]\n",
      "  [-1.77499487 -1.78702233 -1.85989416 -1.74769238]\n",
      "  [-1.37807207 10.         -1.37147098 -1.19342195]]\n",
      "\n",
      " [[-2.56174107 -1.68646776 -1.58805582  6.73288959]\n",
      "  [-2.07860967 -2.0791324  -1.85995492  7.81099996]\n",
      "  [-3.53232646 -1.48954536 -1.94927739  8.9       ]\n",
      "  [-1.24973638 -1.58805582 -1.95963596 10.        ]\n",
      "  [ 0.          0.          0.          0.        ]]]\n"
     ]
    },
    {
     "data": {
      "text/plain": [
       "[<matplotlib.lines.Line2D at 0x7f00299aba90>]"
      ]
     },
     "execution_count": 6,
     "metadata": {},
     "output_type": "execute_result"
    },
    {
     "data": {
      "image/png": "[encoded data removed]",
      "text/plain": [
       "<Figure size 432x288 with 1 Axes>"
      ]
     },
     "metadata": {
      "needs_background": "light"
     },
     "output_type": "display_data"
    }
   ],
   "source": [
    "print(agent.q_table)\n",
    "plt.xlabel('Episode')\n",
    "plt.ylabel('$\\epsilon$')\n",
    "plt.plot(epsilons)"
   ]
  },
  {
   "cell_type": "code",
   "execution_count": 7,
   "metadata": {
    "colab": {
     "base_uri": "https://localhost:8080/",
     "height": 296
    },
    "colab_type": "code",
    "id": "rJ-KPMeKw4Y1",
    "outputId": "818d577e-f456-4e35-cb2d-21739dbefb03"
   },
   "outputs": [
    {
     "data": {
      "text/plain": [
       "[<matplotlib.lines.Line2D at 0x7f00287ae110>]"
      ]
     },
     "execution_count": 7,
     "metadata": {},
     "output_type": "execute_result"
    },
    {
     "data": {
      "image/png": "[encoded data removed]",
      "text/plain": [
       "<Figure size 432x288 with 1 Axes>"
      ]
     },
     "metadata": {
      "needs_background": "light"
     },
     "output_type": "display_data"
    }
   ],
   "source": [
    "window = 10\n",
    "plt.xlabel('Episode')\n",
    "plt.ylabel('Total Rewards')\n",
    "plt.plot([np.mean(total_rewards[tr:tr+window]) for tr in range(window, len(total_rewards))])"
   ]
  },
  {
   "cell_type": "markdown",
   "metadata": {
    "colab_type": "text",
    "id": "6VOf7tJ6uqvM"
   },
   "source": [
    "**Testing**\n"
   ]
  },
  {
   "cell_type": "code",
   "execution_count": 8,
   "metadata": {
    "colab": {
     "base_uri": "https://localhost:8080/",
     "height": 1000
    },
    "colab_type": "code",
    "id": "7uYP4VfXoLWB",
    "outputId": "91c672a7-b499-4210-a1fa-cc17cc71c177"
   },
   "outputs": [
    {
     "data": {
      "image/png": "[encoded data removed]",
      "text/plain": [
       "<Figure size 432x288 with 1 Axes>"
      ]
     },
     "metadata": {
      "needs_background": "light"
     },
     "output_type": "display_data"
    },
    {
     "data": {
      "image/png": "[encoded data removed]",
      "text/plain": [
       "<Figure size 432x288 with 1 Axes>"
      ]
     },
     "metadata": {
      "needs_background": "light"
     },
     "output_type": "display_data"
    },
    {
     "data": {
      "image/png": "[encoded data removed]",
      "text/plain": [
       "<Figure size 432x288 with 1 Axes>"
      ]
     },
     "metadata": {
      "needs_background": "light"
     },
     "output_type": "display_data"
    },
    {
     "data": {
      "image/png": "[encoded data removed]",
      "text/plain": [
       "<Figure size 432x288 with 1 Axes>"
      ]
     },
     "metadata": {
      "needs_background": "light"
     },
     "output_type": "display_data"
    },
    {
     "data": {
      "image/png": "[encoded data removed]",
      "text/plain": [
       "<Figure size 432x288 with 1 Axes>"
      ]
     },
     "metadata": {
      "needs_background": "light"
     },
     "output_type": "display_data"
    },
    {
     "data": {
      "image/png": "[encoded data removed]",
      "text/plain": [
       "<Figure size 432x288 with 1 Axes>"
      ]
     },
     "metadata": {
      "needs_background": "light"
     },
     "output_type": "display_data"
    },
    {
     "data": {
      "image/png": "[encoded data removed]",
      "text/plain": [
       "<Figure size 432x288 with 1 Axes>"
      ]
     },
     "metadata": {
      "needs_background": "light"
     },
     "output_type": "display_data"
    },
    {
     "data": {
      "image/png": "[encoded data removed]",
      "text/plain": [
       "<Figure size 432x288 with 1 Axes>"
      ]
     },
     "metadata": {
      "needs_background": "light"
     },
     "output_type": "display_data"
    },
    {
     "data": {
      "image/png": "[encoded data removed]",
      "text/plain": [
       "<Figure size 432x288 with 1 Axes>"
      ]
     },
     "metadata": {
      "needs_background": "light"
     },
     "output_type": "display_data"
    }
   ],
   "source": [
    "env = Environment()\n",
    "obs = env.reset()\n",
    "done = False\n",
    "env.render()\n",
    "plt.show()\n",
    "\n",
    "while not done:\n",
    "  action = agent.step(obs.astype(int))\n",
    "  current_state = obs.copy()\n",
    "  # print(action, done, obs)\n",
    "  obs, reward, done = env.step(action)\n",
    "  env.render()\n",
    "  plt.show()"
   ]
  },
  {
   "cell_type": "markdown",
   "metadata": {
    "colab_type": "text",
    "id": "n6Cahn5gVbkg"
   },
   "source": [
    "**Training deterministic environment**"
   ]
  },
  {
   "cell_type": "code",
   "execution_count": 9,
   "metadata": {
    "colab": {},
    "colab_type": "code",
    "id": "t97Gi0adVbKZ"
   },
   "outputs": [],
   "source": [
    "deterministic_environment = Environment(stochastic=False)\n",
    "sarsa_agent = SARSA_Agent(deterministic_environment, False)\n",
    "episodes = 500\n",
    "\n",
    "total_rewards = []\n",
    "epsilons = [sarsa_agent.epsilon]\n",
    "\n",
    "for episode in range(episodes):\n",
    "  obs = deterministic_environment.reset()\n",
    "  done = False\n",
    "  r = 0\n",
    "\n",
    "  while not done:\n",
    "    current_state = obs.copy()\n",
    "    action = sarsa_agent.step(current_state.astype(int))\n",
    "    obs, reward, done = deterministic_environment.step(action)\n",
    "    sarsa_agent.update(current_state, action, reward, obs)\n",
    "    r += reward\n",
    "  sarsa_agent.set_epsilon(max(0.005, sarsa_agent.epsilon*0.99)) # decay epsilon\n",
    "  epsilons.append(sarsa_agent.epsilon)\n",
    "  total_rewards.append(r)"
   ]
  },
  {
   "cell_type": "code",
   "execution_count": 10,
   "metadata": {
    "colab": {
     "base_uri": "https://localhost:8080/",
     "height": 296
    },
    "colab_type": "code",
    "id": "5TWK-otIVrIP",
    "outputId": "a317c3c5-9239-4957-c88a-1bb6fd30e21f"
   },
   "outputs": [
    {
     "data": {
      "text/plain": [
       "[<matplotlib.lines.Line2D at 0x7f00288c0310>]"
      ]
     },
     "execution_count": 10,
     "metadata": {},
     "output_type": "execute_result"
    },
    {
     "data": {
      "image/png": "[encoded data removed]",
      "text/plain": [
       "<Figure size 432x288 with 1 Axes>"
      ]
     },
     "metadata": {
      "needs_background": "light"
     },
     "output_type": "display_data"
    }
   ],
   "source": [
    "# print(agent.q_table)\n",
    "plt.xlabel('Episode')\n",
    "plt.ylabel('$\\epsilon$')\n",
    "plt.plot(epsilons)\n"
   ]
  },
  {
   "cell_type": "code",
   "execution_count": 11,
   "metadata": {
    "colab": {
     "base_uri": "https://localhost:8080/",
     "height": 296
    },
    "colab_type": "code",
    "id": "TeC96FowWS0b",
    "outputId": "0ceed4e0-9cde-4434-b154-29649044769c"
   },
   "outputs": [
    {
     "data": {
      "text/plain": [
       "[<matplotlib.lines.Line2D at 0x7f00298406d0>]"
      ]
     },
     "execution_count": 11,
     "metadata": {},
     "output_type": "execute_result"
    },
    {
     "data": {
      "image/png": "[encoded data removed]",
      "text/plain": [
       "<Figure size 432x288 with 1 Axes>"
      ]
     },
     "metadata": {
      "needs_background": "light"
     },
     "output_type": "display_data"
    }
   ],
   "source": [
    "window = 10\n",
    "plt.xlabel('Episode')\n",
    "plt.ylabel('Total Rewards')\n",
    "plt.plot([np.mean(total_rewards[tr:tr+window]) for tr in range(window, len(total_rewards))])"
   ]
  },
  {
   "cell_type": "markdown",
   "metadata": {
    "colab_type": "text",
    "id": "BigLGOaTWid-"
   },
   "source": [
    "**Test - Deterministic Environment**"
   ]
  },
  {
   "cell_type": "code",
   "execution_count": 12,
   "metadata": {
    "colab": {
     "base_uri": "https://localhost:8080/",
     "height": 1000
    },
    "colab_type": "code",
    "id": "NOf2YqT5WiDU",
    "outputId": "9d68fdc4-2ef0-45e0-c8e9-5ee468b1fbab"
   },
   "outputs": [
    {
     "data": {
      "image/png": "[encoded data removed]",
      "text/plain": [
       "<Figure size 432x288 with 1 Axes>"
      ]
     },
     "metadata": {
      "needs_background": "light"
     },
     "output_type": "display_data"
    },
    {
     "data": {
      "image/png": "[encoded data removed]",
      "text/plain": [
       "<Figure size 432x288 with 1 Axes>"
      ]
     },
     "metadata": {
      "needs_background": "light"
     },
     "output_type": "display_data"
    },
    {
     "data": {
      "image/png": "[encoded data removed]",
      "text/plain": [
       "<Figure size 432x288 with 1 Axes>"
      ]
     },
     "metadata": {
      "needs_background": "light"
     },
     "output_type": "display_data"
    },
    {
     "data": {
      "image/png": "[encoded data removed]",
      "text/plain": [
       "<Figure size 432x288 with 1 Axes>"
      ]
     },
     "metadata": {
      "needs_background": "light"
     },
     "output_type": "display_data"
    },
    {
     "data": {
      "image/png": "[encoded data removed]",
      "text/plain": [
       "<Figure size 432x288 with 1 Axes>"
      ]
     },
     "metadata": {
      "needs_background": "light"
     },
     "output_type": "display_data"
    },
    {
     "data": {
      "image/png": "[encoded data removed]",
      "text/plain": [
       "<Figure size 432x288 with 1 Axes>"
      ]
     },
     "metadata": {
      "needs_background": "light"
     },
     "output_type": "display_data"
    },
    {
     "data": {
      "image/png": "[encoded data removed]",
      "text/plain": [
       "<Figure size 432x288 with 1 Axes>"
      ]
     },
     "metadata": {
      "needs_background": "light"
     },
     "output_type": "display_data"
    },
    {
     "data": {
      "image/png": "[encoded data removed]",
      "text/plain": [
       "<Figure size 432x288 with 1 Axes>"
      ]
     },
     "metadata": {
      "needs_background": "light"
     },
     "output_type": "display_data"
    },
    {
     "data": {
      "image/png": "[encoded data removed]",
      "text/plain": [
       "<Figure size 432x288 with 1 Axes>"
      ]
     },
     "metadata": {
      "needs_background": "light"
     },
     "output_type": "display_data"
    }
   ],
   "source": [
    "env = Environment()\n",
    "obs = env.reset()\n",
    "done = False\n",
    "env.render()\n",
    "plt.show()\n",
    "\n",
    "while not done:\n",
    "  action = sarsa_agent.step(obs.astype(int))\n",
    "  current_state = obs.copy()\n",
    "  # print(action, done, obs)\n",
    "  obs, reward, done = env.step(action)\n",
    "  env.render()\n",
    "  plt.show()"
   ]
  }
 ],
 "metadata": {
  "colab": {
   "collapsed_sections": [],
   "name": "RL-1.ipynb",
   "provenance": []
  },
  "kernelspec": {
   "display_name": "Python 3",
   "language": "python",
   "name": "python3"
  },
  "language_info": {
   "codemirror_mode": {
    "name": "ipython",
    "version": 3
   },
   "file_extension": ".py",
   "mimetype": "text/x-python",
   "name": "python",
   "nbconvert_exporter": "python",
   "pygments_lexer": "ipython3",
   "version": "3.7.4"
  }
 },
 "nbformat": 4,
 "nbformat_minor": 1
}
