{
  "nbformat": 4,
  "nbformat_minor": 0,
  "metadata": {
    "colab": {
      "name": "RL-PA3-REINFORCE.ipynb",
      "provenance": [],
      "collapsed_sections": []
    },
    "kernelspec": {
      "name": "python3",
      "display_name": "Python 3"
    },
    "accelerator": "GPU"
  },
  "cells": [
    {
      "cell_type": "code",
      "metadata": {
        "id": "6-JeVbNdwWz7",
        "colab_type": "code",
        "outputId": "856106e0-51ca-46cc-c42f-00e483cc45dd",
        "colab": {
          "base_uri": "https://localhost:8080/",
          "height": 85
        }
      },
      "source": [
        "import gym\n",
        "import math\n",
        "import random\n",
        "import numpy as np\n",
        "import matplotlib\n",
        "import matplotlib.pyplot as plt\n",
        "from collections import namedtuple\n",
        "from itertools import count\n",
        "from PIL import Image\n",
        "\n",
        "import torch\n",
        "import torch.nn as nn\n",
        "import torch.optim as optim\n",
        "import torch.nn.functional as F\n",
        "import torchvision.transforms as T\n",
        "from torch.distributions import Categorical\n",
        "\n",
        "\n",
        "env = gym.make('CartPole-v1')\n",
        "\n",
        "print(env.action_space)\n",
        "print(env.observation_space)\n",
        "print(env.spec.reward_threshold)\n",
        "\n",
        "# set up matplotlib\n",
        "is_ipython = 'inline' in matplotlib.get_backend()\n",
        "if is_ipython:\n",
        "  from IPython import display\n",
        "\n",
        "plt.ion()\n",
        "\n",
        "# if gpu is to be used\n",
        "device = torch.device(\"cuda\" if torch.cuda.is_available() else \"cpu\")\n",
        "print(device)"
      ],
      "execution_count": 1,
      "outputs": [
        {
          "output_type": "stream",
          "text": [
            "Discrete(2)\n",
            "Box(4,)\n",
            "475.0\n",
            "cuda\n"
          ],
          "name": "stdout"
        }
      ]
    },
    {
      "cell_type": "markdown",
      "metadata": {
        "id": "rKdUe7QsLc6X",
        "colab_type": "text"
      },
      "source": [
        "**Policy Network**"
      ]
    },
    {
      "cell_type": "code",
      "metadata": {
        "id": "ejFMhepw0CFF",
        "colab_type": "code",
        "colab": {}
      },
      "source": [
        "class Network(nn.Module):\n",
        "  def __init__(self):\n",
        "    super(Network, self).__init__()\n",
        "    self.linear1 = nn.Linear(env.observation_space.shape[0], 128)\n",
        "    self.dropout = nn.Dropout(p=0.6)\n",
        "    self.linear2 = nn.Linear(128, env.action_space.n)\n",
        "\n",
        "  def forward(self, x):\n",
        "    x = self.linear1(x)\n",
        "    x = self.dropout(x)\n",
        "    x = F.relu(x)\n",
        "    return F.softmax(self.linear2(x), 1)"
      ],
      "execution_count": 0,
      "outputs": []
    },
    {
      "cell_type": "markdown",
      "metadata": {
        "id": "4_t1zbhOLiG4",
        "colab_type": "text"
      },
      "source": [
        "**REINFORCE Agent**"
      ]
    },
    {
      "cell_type": "code",
      "metadata": {
        "id": "Uz_YCRHG05-C",
        "colab_type": "code",
        "colab": {}
      },
      "source": [
        "class REINFORCE():\n",
        "  def __init__(self):\n",
        "    self.policy = Network()\n",
        "    self.optimizer = optim.Adam(self.policy.parameters(), lr=1e-2)\n",
        "    self.gamma = 0.99\n",
        "    self.rewards = []\n",
        "    self.log_probs = []\n",
        "\n",
        "\n",
        "  #https://pytorch.org/docs/stable/distributions.html\n",
        "  def select_action(self, state):\n",
        "    state = torch.from_numpy(state).float().unsqueeze(0)\n",
        "    probs = self.policy(state)\n",
        "    m = Categorical(probs)\n",
        "    action = m.sample()\n",
        "    log_prob = m.log_prob(action)\n",
        "    return action, log_prob #action\n",
        "\n",
        "  def truth(self):\n",
        "    R = 0\n",
        "    truth = []\n",
        "    for r in self.rewards[::-1]:\n",
        "        R = r + self.gamma * R\n",
        "        truth.insert(0, R)\n",
        "    truth = torch.tensor(truth)\n",
        "    truth = (truth - truth.mean())\n",
        "    return truth\n",
        "\n",
        "  def optimize_model(self):\n",
        "    loss = []\n",
        "    truth = self.truth() # returns\n",
        "    # print(len(self.log_probs), len(self.rewards))\n",
        "    for log_prob, truth in zip(self.log_probs, truth):\n",
        "        loss.append(-log_prob * truth)\n",
        "        # print(-log_prob * truth)\n",
        "\n",
        "    # Policy loss\n",
        "    self.optimizer.zero_grad()\n",
        "    # print(loss)\n",
        "    loss = torch.cat(loss).sum()\n",
        "    loss.backward()\n",
        "    self.optimizer.step()\n",
        "\n",
        "    #reset\n",
        "    del self.rewards[:]\n",
        "    del self.log_probs[:]\n",
        "\n",
        "  def train(self, num_episodes=500):\n",
        "    running_reward = 10\n",
        "    total_rewards = []\n",
        "    mean_rewards = []\n",
        "    # run till it solves\n",
        "    for i_episode in count(1): #range(num_episodes):\n",
        "      state = env.reset()\n",
        "      r = 0\n",
        "      for t in count():\n",
        "        action, log_prob = self.select_action(state)\n",
        "        self.log_probs.append(log_prob)\n",
        "        next_state, reward, done, _ = env.step(action.item())\n",
        "        self.rewards.append(reward)\n",
        "\n",
        "        # reward = torch.tensor([reward], device=device)\n",
        "        r += reward #reward.item()\n",
        "\n",
        "        # Move to the next state\n",
        "        state = next_state\n",
        "        if done:\n",
        "          self.optimize_model()\n",
        "          break\n",
        "\n",
        "      total_rewards.append(r)\n",
        "      # Exponential moving average\n",
        "      running_reward = 0.05 * r + (1 - 0.05) * running_reward\n",
        "\n",
        "      # Mean rewards over last 100 episodes\n",
        "      avg_rewards = np.mean(total_rewards[-100:])\n",
        "      mean_rewards.append(avg_rewards)\n",
        "      if i_episode % 10 == 0:\n",
        "          print('Episode {}\\tEpisode reward: {:.2f}\\tExp moving avg: {:.2f}\\tMean-100 episodes: {:.2f}'.format(i_episode, r, running_reward, avg_rewards))\n",
        "      if avg_rewards > env.spec.reward_threshold:\n",
        "          print(\"SOLVED! Running reward is now {} and \"\"the last episode runs to {} time steps!\"\" Mean rewards over last 100 episodes {}\".format(running_reward, t, avg_rewards))\n",
        "          break\n",
        "    return total_rewards, mean_rewards\n",
        "            \n"
      ],
      "execution_count": 0,
      "outputs": []
    },
    {
      "cell_type": "code",
      "metadata": {
        "id": "DlLk_4nOEUZB",
        "colab_type": "code",
        "outputId": "aea5f954-9845-4939-b186-dcc2e75104bc",
        "colab": {
          "base_uri": "https://localhost:8080/",
          "height": 1000
        }
      },
      "source": [
        "agent = REINFORCE()\n",
        "total_rewards, mean_rewards = agent.train()"
      ],
      "execution_count": 4,
      "outputs": [
        {
          "output_type": "stream",
          "text": [
            "Episode 10\tEpisode reward: 21.00\tExp moving avg: 14.41\tMean-100 episodes: 21.30\n",
            "Episode 20\tEpisode reward: 16.00\tExp moving avg: 14.64\tMean-100 episodes: 18.20\n",
            "Episode 30\tEpisode reward: 34.00\tExp moving avg: 18.08\tMean-100 episodes: 19.67\n",
            "Episode 40\tEpisode reward: 28.00\tExp moving avg: 35.90\tMean-100 episodes: 29.73\n",
            "Episode 50\tEpisode reward: 46.00\tExp moving avg: 43.65\tMean-100 episodes: 34.92\n",
            "Episode 60\tEpisode reward: 59.00\tExp moving avg: 52.62\tMean-100 episodes: 40.18\n",
            "Episode 70\tEpisode reward: 137.00\tExp moving avg: 60.46\tMean-100 episodes: 44.49\n",
            "Episode 80\tEpisode reward: 77.00\tExp moving avg: 62.17\tMean-100 episodes: 46.75\n",
            "Episode 90\tEpisode reward: 189.00\tExp moving avg: 71.01\tMean-100 episodes: 50.70\n",
            "Episode 100\tEpisode reward: 62.00\tExp moving avg: 68.10\tMean-100 episodes: 51.96\n",
            "Episode 110\tEpisode reward: 106.00\tExp moving avg: 98.69\tMean-100 episodes: 64.32\n",
            "Episode 120\tEpisode reward: 120.00\tExp moving avg: 116.53\tMean-100 episodes: 77.06\n",
            "Episode 130\tEpisode reward: 157.00\tExp moving avg: 131.03\tMean-100 episodes: 90.23\n",
            "Episode 140\tEpisode reward: 99.00\tExp moving avg: 126.53\tMean-100 episodes: 96.41\n",
            "Episode 150\tEpisode reward: 94.00\tExp moving avg: 110.95\tMean-100 episodes: 99.56\n",
            "Episode 160\tEpisode reward: 109.00\tExp moving avg: 102.80\tMean-100 episodes: 101.95\n",
            "Episode 170\tEpisode reward: 81.00\tExp moving avg: 92.18\tMean-100 episodes: 102.72\n",
            "Episode 180\tEpisode reward: 118.00\tExp moving avg: 90.91\tMean-100 episodes: 105.40\n",
            "Episode 190\tEpisode reward: 152.00\tExp moving avg: 111.23\tMean-100 episodes: 111.38\n",
            "Episode 200\tEpisode reward: 111.00\tExp moving avg: 133.95\tMean-100 episodes: 121.98\n",
            "Episode 210\tEpisode reward: 500.00\tExp moving avg: 169.80\tMean-100 episodes: 128.35\n",
            "Episode 220\tEpisode reward: 236.00\tExp moving avg: 192.96\tMean-100 episodes: 137.06\n",
            "Episode 230\tEpisode reward: 177.00\tExp moving avg: 213.17\tMean-100 episodes: 146.11\n",
            "Episode 240\tEpisode reward: 401.00\tExp moving avg: 291.38\tMean-100 episodes: 174.22\n",
            "Episode 250\tEpisode reward: 414.00\tExp moving avg: 311.19\tMean-100 episodes: 199.29\n",
            "Episode 260\tEpisode reward: 483.00\tExp moving avg: 337.31\tMean-100 episodes: 226.95\n",
            "Episode 270\tEpisode reward: 86.00\tExp moving avg: 294.92\tMean-100 episodes: 242.96\n",
            "Episode 280\tEpisode reward: 98.00\tExp moving avg: 285.20\tMean-100 episodes: 261.04\n",
            "Episode 290\tEpisode reward: 500.00\tExp moving avg: 335.36\tMean-100 episodes: 287.04\n",
            "Episode 300\tEpisode reward: 500.00\tExp moving avg: 351.36\tMean-100 episodes: 306.51\n",
            "Episode 310\tEpisode reward: 299.00\tExp moving avg: 368.75\tMean-100 episodes: 326.45\n",
            "Episode 320\tEpisode reward: 500.00\tExp moving avg: 345.12\tMean-100 episodes: 334.31\n",
            "Episode 330\tEpisode reward: 116.00\tExp moving avg: 260.72\tMean-100 episodes: 323.39\n",
            "Episode 340\tEpisode reward: 102.00\tExp moving avg: 200.30\tMean-100 episodes: 294.16\n",
            "Episode 350\tEpisode reward: 113.00\tExp moving avg: 160.28\tMean-100 episodes: 270.32\n",
            "Episode 360\tEpisode reward: 109.00\tExp moving avg: 135.51\tMean-100 episodes: 243.27\n",
            "Episode 370\tEpisode reward: 155.00\tExp moving avg: 127.03\tMean-100 episodes: 230.69\n",
            "Episode 380\tEpisode reward: 118.00\tExp moving avg: 139.53\tMean-100 episodes: 219.64\n",
            "Episode 390\tEpisode reward: 118.00\tExp moving avg: 129.01\tMean-100 episodes: 190.71\n",
            "Episode 400\tEpisode reward: 118.00\tExp moving avg: 121.33\tMean-100 episodes: 165.27\n",
            "Episode 410\tEpisode reward: 201.00\tExp moving avg: 119.63\tMean-100 episodes: 135.78\n",
            "Episode 420\tEpisode reward: 500.00\tExp moving avg: 207.24\tMean-100 episodes: 136.84\n",
            "Episode 430\tEpisode reward: 500.00\tExp moving avg: 294.65\tMean-100 episodes: 164.99\n",
            "Episode 440\tEpisode reward: 244.00\tExp moving avg: 305.55\tMean-100 episodes: 185.25\n",
            "Episode 450\tEpisode reward: 260.00\tExp moving avg: 319.09\tMean-100 episodes: 208.41\n",
            "Episode 460\tEpisode reward: 233.00\tExp moving avg: 373.97\tMean-100 episodes: 244.91\n",
            "Episode 470\tEpisode reward: 185.00\tExp moving avg: 297.21\tMean-100 episodes: 252.23\n",
            "Episode 480\tEpisode reward: 100.00\tExp moving avg: 223.78\tMean-100 episodes: 247.81\n",
            "Episode 490\tEpisode reward: 282.00\tExp moving avg: 199.15\tMean-100 episodes: 252.18\n",
            "Episode 500\tEpisode reward: 129.00\tExp moving avg: 178.37\tMean-100 episodes: 255.68\n",
            "Episode 510\tEpisode reward: 296.00\tExp moving avg: 194.00\tMean-100 episodes: 265.56\n",
            "Episode 520\tEpisode reward: 500.00\tExp moving avg: 300.35\tMean-100 episodes: 278.85\n",
            "Episode 530\tEpisode reward: 462.00\tExp moving avg: 340.80\tMean-100 episodes: 277.45\n",
            "Episode 540\tEpisode reward: 345.00\tExp moving avg: 325.54\tMean-100 episodes: 276.86\n",
            "Episode 550\tEpisode reward: 178.00\tExp moving avg: 279.14\tMean-100 episodes: 264.74\n",
            "Episode 560\tEpisode reward: 224.00\tExp moving avg: 247.99\tMean-100 episodes: 238.37\n",
            "Episode 570\tEpisode reward: 347.00\tExp moving avg: 248.61\tMean-100 episodes: 244.51\n",
            "Episode 580\tEpisode reward: 217.00\tExp moving avg: 265.06\tMean-100 episodes: 262.28\n",
            "Episode 590\tEpisode reward: 351.00\tExp moving avg: 295.48\tMean-100 episodes: 280.22\n",
            "Episode 600\tEpisode reward: 177.00\tExp moving avg: 264.16\tMean-100 episodes: 288.03\n",
            "Episode 610\tEpisode reward: 187.00\tExp moving avg: 228.04\tMean-100 episodes: 284.25\n",
            "Episode 620\tEpisode reward: 188.00\tExp moving avg: 210.74\tMean-100 episodes: 257.53\n",
            "Episode 630\tEpisode reward: 88.00\tExp moving avg: 189.28\tMean-100 episodes: 233.20\n",
            "Episode 640\tEpisode reward: 169.00\tExp moving avg: 186.81\tMean-100 episodes: 220.94\n",
            "Episode 650\tEpisode reward: 146.00\tExp moving avg: 184.67\tMean-100 episodes: 217.95\n",
            "Episode 660\tEpisode reward: 366.00\tExp moving avg: 228.10\tMean-100 episodes: 226.36\n",
            "Episode 670\tEpisode reward: 229.00\tExp moving avg: 315.08\tMean-100 episodes: 246.38\n",
            "Episode 680\tEpisode reward: 324.00\tExp moving avg: 358.50\tMean-100 episodes: 259.66\n",
            "Episode 690\tEpisode reward: 500.00\tExp moving avg: 412.41\tMean-100 episodes: 275.16\n",
            "Episode 700\tEpisode reward: 500.00\tExp moving avg: 433.45\tMean-100 episodes: 299.92\n",
            "Episode 710\tEpisode reward: 500.00\tExp moving avg: 460.15\tMean-100 episodes: 332.51\n",
            "Episode 720\tEpisode reward: 500.00\tExp moving avg: 476.14\tMean-100 episodes: 364.06\n",
            "Episode 730\tEpisode reward: 273.00\tExp moving avg: 463.64\tMean-100 episodes: 393.48\n",
            "Episode 740\tEpisode reward: 291.00\tExp moving avg: 405.67\tMean-100 episodes: 407.48\n",
            "Episode 750\tEpisode reward: 232.00\tExp moving avg: 344.88\tMean-100 episodes: 415.03\n",
            "Episode 760\tEpisode reward: 312.00\tExp moving avg: 309.50\tMean-100 episodes: 412.30\n",
            "Episode 770\tEpisode reward: 321.00\tExp moving avg: 294.39\tMean-100 episodes: 394.71\n",
            "Episode 780\tEpisode reward: 335.00\tExp moving avg: 299.01\tMean-100 episodes: 382.33\n",
            "Episode 790\tEpisode reward: 331.00\tExp moving avg: 331.48\tMean-100 episodes: 371.05\n",
            "Episode 800\tEpisode reward: 500.00\tExp moving avg: 395.37\tMean-100 episodes: 372.89\n",
            "Episode 810\tEpisode reward: 500.00\tExp moving avg: 419.95\tMean-100 episodes: 368.83\n",
            "Episode 820\tEpisode reward: 500.00\tExp moving avg: 452.07\tMean-100 episodes: 368.83\n",
            "Episode 830\tEpisode reward: 103.00\tExp moving avg: 451.45\tMean-100 episodes: 369.46\n",
            "Episode 840\tEpisode reward: 500.00\tExp moving avg: 466.55\tMean-100 episodes: 385.61\n",
            "Episode 850\tEpisode reward: 500.00\tExp moving avg: 466.83\tMean-100 episodes: 406.68\n",
            "Episode 860\tEpisode reward: 311.00\tExp moving avg: 440.24\tMean-100 episodes: 422.05\n",
            "Episode 870\tEpisode reward: 500.00\tExp moving avg: 412.64\tMean-100 episodes: 431.63\n",
            "Episode 880\tEpisode reward: 500.00\tExp moving avg: 426.72\tMean-100 episodes: 445.77\n",
            "Episode 890\tEpisode reward: 500.00\tExp moving avg: 456.12\tMean-100 episodes: 457.96\n",
            "Episode 900\tEpisode reward: 500.00\tExp moving avg: 473.73\tMean-100 episodes: 459.09\n",
            "Episode 910\tEpisode reward: 500.00\tExp moving avg: 484.27\tMean-100 episodes: 463.15\n",
            "Episode 920\tEpisode reward: 500.00\tExp moving avg: 490.58\tMean-100 episodes: 463.15\n",
            "Episode 930\tEpisode reward: 500.00\tExp moving avg: 494.36\tMean-100 episodes: 467.12\n",
            "Episode 940\tEpisode reward: 500.00\tExp moving avg: 496.62\tMean-100 episodes: 468.51\n",
            "Episode 950\tEpisode reward: 500.00\tExp moving avg: 497.98\tMean-100 episodes: 471.89\n",
            "SOLVED! Running reward is now 498.5141304603853 and the last episode runs to 499 time steps! Mean rewards over last 100 episodes 475.79\n"
          ],
          "name": "stdout"
        }
      ]
    },
    {
      "cell_type": "code",
      "metadata": {
        "id": "pIAIYOtbKA61",
        "colab_type": "code",
        "colab": {
          "base_uri": "https://localhost:8080/",
          "height": 279
        },
        "outputId": "2e9dc4ea-acf2-4da1-a6b7-a2ef8b30f0e8"
      },
      "source": [
        "plt.plot(total_rewards)\n",
        "plt.plot(mean_rewards)\n",
        "plt.plot()\n",
        "plt.xlabel('Episode')\n",
        "plt.ylabel('Reward')\n",
        "plt.show()"
      ],
      "execution_count": 5,
      "outputs": [
        {
          "output_type": "display_data",
          "data": {
            "image/png": "[encoded data removed]",
            "text/plain": [
              "<Figure size 432x288 with 1 Axes>"
            ]
          },
          "metadata": {
            "tags": [],
            "needs_background": "light"
          }
        }
      ]
    }
  ]
}