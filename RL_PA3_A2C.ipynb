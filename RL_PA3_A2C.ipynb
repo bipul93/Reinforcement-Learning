{
  "nbformat": 4,
  "nbformat_minor": 0,
  "metadata": {
    "colab": {
      "name": "RL-PA3-A2C.ipynb",
      "provenance": [],
      "collapsed_sections": []
    },
    "kernelspec": {
      "name": "python3",
      "display_name": "Python 3"
    },
    "accelerator": "GPU"
  },
  "cells": [
    {
      "cell_type": "code",
      "metadata": {
        "id": "6-JeVbNdwWz7",
        "colab_type": "code",
        "outputId": "b71a53cb-4fdb-42bb-e4f8-d9f7b15bdb65",
        "colab": {
          "base_uri": "https://localhost:8080/",
          "height": 85
        }
      },
      "source": [
        "import gym\n",
        "import math\n",
        "import random\n",
        "import numpy as np\n",
        "import matplotlib\n",
        "import matplotlib.pyplot as plt\n",
        "from collections import namedtuple\n",
        "from itertools import count\n",
        "from PIL import Image\n",
        "\n",
        "import torch\n",
        "import torch.nn as nn\n",
        "import torch.optim as optim\n",
        "import torch.nn.functional as F\n",
        "import torchvision.transforms as T\n",
        "from torch.distributions import Categorical\n",
        "\n",
        "\n",
        "env = gym.make('CartPole-v1')\n",
        "\n",
        "print(env.action_space)\n",
        "print(env.observation_space)\n",
        "print(env.spec.reward_threshold)\n",
        "\n",
        "# set up matplotlib\n",
        "is_ipython = 'inline' in matplotlib.get_backend()\n",
        "if is_ipython:\n",
        "  from IPython import display\n",
        "\n",
        "plt.ion()\n",
        "\n",
        "# if gpu is to be used\n",
        "device = torch.device(\"cuda\" if torch.cuda.is_available() else \"cpu\")\n",
        "print(device)"
      ],
      "execution_count": 11,
      "outputs": [
        {
          "output_type": "stream",
          "text": [
            "Discrete(2)\n",
            "Box(4,)\n",
            "475.0\n",
            "cuda\n"
          ],
          "name": "stdout"
        }
      ]
    },
    {
      "cell_type": "markdown",
      "metadata": {
        "id": "SykXhnSmORvc",
        "colab_type": "text"
      },
      "source": [
        "**Actor Critic Network**"
      ]
    },
    {
      "cell_type": "code",
      "metadata": {
        "id": "ejFMhepw0CFF",
        "colab_type": "code",
        "colab": {}
      },
      "source": [
        "class Actor(nn.Module):\n",
        "  def __init__(self):\n",
        "    super(Actor, self).__init__()\n",
        "    self.linear1 = nn.Linear(env.observation_space.shape[0], 128)\n",
        "    self.dropout = nn.Dropout(p=0.6)\n",
        "    self.head = nn.Linear(128, env.action_space.n)\n",
        "\n",
        "  def forward(self, x):\n",
        "    x = self.linear1(x)\n",
        "    x = self.dropout(x)\n",
        "    x = F.relu(x)\n",
        "    return F.softmax(self.head(x), -1)\n",
        "\n",
        "\n",
        "class Critic(nn.Module):\n",
        "  def __init__(self):\n",
        "    super(Critic, self).__init__()\n",
        "    self.linear1 = nn.Linear(env.observation_space.shape[0], 128)\n",
        "    self.head = nn.Linear(128, 1)\n",
        "\n",
        "  def forward(self, x):\n",
        "    x = self.linear1(x)\n",
        "    x = F.relu(x)\n",
        "    return self.head(x.view(x.size(0), -1))"
      ],
      "execution_count": 0,
      "outputs": []
    },
    {
      "cell_type": "markdown",
      "metadata": {
        "id": "i2tYI_3nOWwN",
        "colab_type": "text"
      },
      "source": [
        "**Advantage Actor Critic Agent**"
      ]
    },
    {
      "cell_type": "code",
      "metadata": {
        "id": "Uz_YCRHG05-C",
        "colab_type": "code",
        "colab": {}
      },
      "source": [
        "class ACTOR_CRITIC_AGENT():\n",
        "  def __init__(self):\n",
        "    self.actor = Actor()\n",
        "    self.critic = Critic()\n",
        "    self.actor_optimizer = optim.Adam(self.actor.parameters(), lr=1e-2)\n",
        "    self.critic_optimizer = optim.Adam(self.critic.parameters(), lr=1e-2)\n",
        "    self.gamma = 0.99\n",
        "    self.rewards = []\n",
        "    self.log_probs = []\n",
        "    self.state_values = []\n",
        "\n",
        "\n",
        "\n",
        "  #https://pytorch.org/docs/stable/distributions.html\n",
        "  def select_action(self, state):\n",
        "    state = torch.from_numpy(state).float().unsqueeze(0)\n",
        "    probs = self.actor(state)\n",
        "    state_val = self.critic(state)\n",
        "    m = Categorical(probs)\n",
        "    action = m.sample()\n",
        "    log_prob = m.log_prob(action)\n",
        "    return action, log_prob, state_val #action, log_prob, state_value\n",
        "\n",
        "  def truth(self):\n",
        "    R = 0\n",
        "    truth = []\n",
        "    for r in self.rewards[::-1]:\n",
        "        R = r + self.gamma * R\n",
        "        truth.insert(0, R)\n",
        "    truth = torch.tensor(truth)\n",
        "    truth = (truth - truth.mean())\n",
        "    return truth\n",
        "\n",
        "  def optimize_model(self):\n",
        "    actor_loss = []\n",
        "    critic_loss = []\n",
        "    truth = self.truth()\n",
        "    # print(len(self.log_probs), len(self.rewards))\n",
        "    for log_prob, value, R in zip(self.log_probs, self.state_values, truth):\n",
        "        # calculate advantage\n",
        "        advantage = R - value.item()\n",
        "        # actor policy loss\n",
        "        actor_loss.append(-log_prob * advantage)\n",
        "        # Crtit loss\n",
        "        critic_loss.append(F.smooth_l1_loss(value, torch.tensor([R]).unsqueeze(1)))\n",
        "\n",
        "\n",
        "    # Actor loss backprop\n",
        "    self.actor_optimizer.zero_grad()\n",
        "    actor_loss = torch.cat(actor_loss).sum()\n",
        "    actor_loss.backward()\n",
        "    self.actor_optimizer.step()\n",
        "\n",
        "    #Critic loss backprop\n",
        "    self.critic_optimizer.zero_grad()\n",
        "    critic_loss = torch.stack(critic_loss).sum()\n",
        "    critic_loss.backward()\n",
        "    self.critic_optimizer.step()\n",
        "    \n",
        "    #reset\n",
        "    del self.rewards[:]\n",
        "    del self.log_probs[:]\n",
        "    del self.state_values[:]\n",
        "\n",
        "  def train(self):\n",
        "    running_reward = 10\n",
        "    total_rewards = []\n",
        "    mean_rewards = []\n",
        "    # run till it solves\n",
        "    for i_episode in count(1): #range(num_episodes):\n",
        "      state = env.reset()\n",
        "      r = 0\n",
        "      for t in count():\n",
        "        action, log_prob, state_val = self.select_action(state)\n",
        "        self.log_probs.append(log_prob)\n",
        "        self.state_values.append(state_val)\n",
        "        next_state, reward, done, _ = env.step(action.item())\n",
        "        self.rewards.append(reward)\n",
        "\n",
        "        # reward = torch.tensor([reward], device=device)\n",
        "        r += reward #reward.item()\n",
        "\n",
        "        # Move to the next state\n",
        "        state = next_state\n",
        "        if done:\n",
        "          self.optimize_model()\n",
        "          break\n",
        "\n",
        "      total_rewards.append(r)\n",
        "\n",
        "      # Exponential moving average\n",
        "      running_reward = 0.05 * r + (1 - 0.05) * running_reward\n",
        "\n",
        "      # Mean rewards over last 100 episodes\n",
        "      avg_rewards = np.mean(total_rewards[-100:])\n",
        "      mean_rewards.append(avg_rewards)\n",
        "      if i_episode % 10 == 0:\n",
        "          print('Episode {}\\tEpisode reward: {:.2f}\\tExp moving avg: {:.2f}\\tMean-100 episodes: {:.2f}'.format(i_episode, r, running_reward, avg_rewards))\n",
        "      if avg_rewards > env.spec.reward_threshold:\n",
        "          print(\"SOLVED! Running reward is now {} and \"\"the last episode runs to {} time steps!\"\" Mean rewards over last 100 episodes {}\".format(running_reward, t, avg_rewards))\n",
        "          break\n",
        "    return total_rewards, mean_rewards\n",
        "            \n"
      ],
      "execution_count": 0,
      "outputs": []
    },
    {
      "cell_type": "code",
      "metadata": {
        "id": "DlLk_4nOEUZB",
        "colab_type": "code",
        "outputId": "fa3e5f74-b211-4446-ae9f-c2bcdf2c22ce",
        "colab": {
          "base_uri": "https://localhost:8080/",
          "height": 1000
        }
      },
      "source": [
        "agent = ACTOR_CRITIC_AGENT()\n",
        "total_rewards, mean_rewards = agent.train()"
      ],
      "execution_count": 14,
      "outputs": [
        {
          "output_type": "stream",
          "text": [
            "Episode 10\tEpisode reward: 37.00\tExp moving avg: 15.31\tMean-100 episodes: 22.90\n",
            "Episode 20\tEpisode reward: 29.00\tExp moving avg: 20.00\tMean-100 episodes: 25.50\n",
            "Episode 30\tEpisode reward: 126.00\tExp moving avg: 29.60\tMean-100 episodes: 31.00\n",
            "Episode 40\tEpisode reward: 31.00\tExp moving avg: 35.53\tMean-100 episodes: 34.70\n",
            "Episode 50\tEpisode reward: 62.00\tExp moving avg: 42.68\tMean-100 episodes: 38.02\n",
            "Episode 60\tEpisode reward: 29.00\tExp moving avg: 43.43\tMean-100 episodes: 39.15\n",
            "Episode 70\tEpisode reward: 56.00\tExp moving avg: 47.62\tMean-100 episodes: 41.26\n",
            "Episode 80\tEpisode reward: 56.00\tExp moving avg: 48.64\tMean-100 episodes: 42.31\n",
            "Episode 90\tEpisode reward: 88.00\tExp moving avg: 52.45\tMean-100 episodes: 43.83\n",
            "Episode 100\tEpisode reward: 93.00\tExp moving avg: 62.22\tMean-100 episodes: 46.97\n",
            "Episode 110\tEpisode reward: 130.00\tExp moving avg: 73.88\tMean-100 episodes: 53.51\n",
            "Episode 120\tEpisode reward: 141.00\tExp moving avg: 109.35\tMean-100 episodes: 66.70\n",
            "Episode 130\tEpisode reward: 78.00\tExp moving avg: 130.87\tMean-100 episodes: 78.58\n",
            "Episode 140\tEpisode reward: 136.00\tExp moving avg: 132.73\tMean-100 episodes: 87.30\n",
            "Episode 150\tEpisode reward: 91.00\tExp moving avg: 133.28\tMean-100 episodes: 95.76\n",
            "Episode 160\tEpisode reward: 125.00\tExp moving avg: 133.49\tMean-100 episodes: 104.81\n",
            "Episode 170\tEpisode reward: 150.00\tExp moving avg: 122.24\tMean-100 episodes: 110.06\n",
            "Episode 180\tEpisode reward: 265.00\tExp moving avg: 173.01\tMean-100 episodes: 129.57\n",
            "Episode 190\tEpisode reward: 150.00\tExp moving avg: 171.12\tMean-100 episodes: 141.04\n",
            "Episode 200\tEpisode reward: 355.00\tExp moving avg: 237.52\tMean-100 episodes: 166.02\n",
            "Episode 210\tEpisode reward: 179.00\tExp moving avg: 243.17\tMean-100 episodes: 183.68\n",
            "Episode 220\tEpisode reward: 16.00\tExp moving avg: 164.18\tMean-100 episodes: 172.59\n",
            "Episode 230\tEpisode reward: 490.00\tExp moving avg: 176.06\tMean-100 episodes: 175.00\n",
            "Episode 240\tEpisode reward: 500.00\tExp moving avg: 257.34\tMean-100 episodes: 198.53\n",
            "Episode 250\tEpisode reward: 226.00\tExp moving avg: 267.11\tMean-100 episodes: 213.48\n",
            "Episode 260\tEpisode reward: 184.00\tExp moving avg: 231.36\tMean-100 episodes: 217.58\n",
            "Episode 270\tEpisode reward: 112.00\tExp moving avg: 195.31\tMean-100 episodes: 221.33\n",
            "Episode 280\tEpisode reward: 164.00\tExp moving avg: 175.14\tMean-100 episodes: 211.26\n",
            "Episode 290\tEpisode reward: 163.00\tExp moving avg: 167.42\tMean-100 episodes: 209.57\n",
            "Episode 300\tEpisode reward: 188.00\tExp moving avg: 170.46\tMean-100 episodes: 194.58\n",
            "Episode 310\tEpisode reward: 194.00\tExp moving avg: 176.58\tMean-100 episodes: 186.58\n",
            "Episode 320\tEpisode reward: 229.00\tExp moving avg: 183.42\tMean-100 episodes: 200.93\n",
            "Episode 330\tEpisode reward: 363.00\tExp moving avg: 216.78\tMean-100 episodes: 208.69\n",
            "Episode 340\tEpisode reward: 500.00\tExp moving avg: 319.33\tMean-100 episodes: 218.51\n",
            "Episode 350\tEpisode reward: 500.00\tExp moving avg: 390.28\tMean-100 episodes: 239.49\n",
            "Episode 360\tEpisode reward: 500.00\tExp moving avg: 424.45\tMean-100 episodes: 269.44\n",
            "Episode 370\tEpisode reward: 500.00\tExp moving avg: 443.54\tMean-100 episodes: 302.43\n",
            "Episode 380\tEpisode reward: 500.00\tExp moving avg: 442.92\tMean-100 episodes: 332.36\n",
            "Episode 390\tEpisode reward: 500.00\tExp moving avg: 457.44\tMean-100 episodes: 364.32\n",
            "Episode 400\tEpisode reward: 500.00\tExp moving avg: 458.92\tMean-100 episodes: 392.80\n",
            "Episode 410\tEpisode reward: 500.00\tExp moving avg: 475.40\tMean-100 episodes: 424.31\n",
            "Episode 420\tEpisode reward: 500.00\tExp moving avg: 472.63\tMean-100 episodes: 451.43\n",
            "Episode 430\tEpisode reward: 500.00\tExp moving avg: 473.67\tMean-100 episodes: 472.86\n",
            "Episode 440\tEpisode reward: 500.00\tExp moving avg: 468.37\tMean-100 episodes: 471.53\n",
            "Episode 450\tEpisode reward: 500.00\tExp moving avg: 464.63\tMean-100 episodes: 468.55\n",
            "Episode 460\tEpisode reward: 291.00\tExp moving avg: 393.34\tMean-100 episodes: 451.10\n",
            "Episode 470\tEpisode reward: 247.00\tExp moving avg: 285.55\tMean-100 episodes: 415.91\n",
            "Episode 480\tEpisode reward: 197.00\tExp moving avg: 253.62\tMean-100 episodes: 392.20\n",
            "Episode 490\tEpisode reward: 255.00\tExp moving avg: 228.73\tMean-100 episodes: 363.89\n",
            "Episode 500\tEpisode reward: 291.00\tExp moving avg: 235.38\tMean-100 episodes: 342.67\n",
            "Episode 510\tEpisode reward: 500.00\tExp moving avg: 298.35\tMean-100 episodes: 331.00\n",
            "Episode 520\tEpisode reward: 500.00\tExp moving avg: 379.26\tMean-100 episodes: 334.62\n",
            "Episode 530\tEpisode reward: 500.00\tExp moving avg: 427.71\tMean-100 episodes: 336.94\n",
            "Episode 540\tEpisode reward: 500.00\tExp moving avg: 456.72\tMean-100 episodes: 341.62\n",
            "Episode 550\tEpisode reward: 500.00\tExp moving avg: 474.09\tMean-100 episodes: 345.08\n",
            "Episode 560\tEpisode reward: 294.00\tExp moving avg: 433.53\tMean-100 episodes: 353.35\n",
            "Episode 570\tEpisode reward: 302.00\tExp moving avg: 371.16\tMean-100 episodes: 368.59\n",
            "Episode 580\tEpisode reward: 406.00\tExp moving avg: 359.21\tMean-100 episodes: 381.55\n",
            "Episode 590\tEpisode reward: 500.00\tExp moving avg: 384.22\tMean-100 episodes: 404.19\n",
            "Episode 600\tEpisode reward: 500.00\tExp moving avg: 430.68\tMean-100 episodes: 429.42\n",
            "Episode 610\tEpisode reward: 500.00\tExp moving avg: 458.49\tMean-100 episodes: 441.09\n",
            "Episode 620\tEpisode reward: 500.00\tExp moving avg: 475.15\tMean-100 episodes: 441.09\n",
            "Episode 630\tEpisode reward: 500.00\tExp moving avg: 485.12\tMean-100 episodes: 441.09\n",
            "Episode 640\tEpisode reward: 500.00\tExp moving avg: 491.09\tMean-100 episodes: 441.09\n",
            "Episode 650\tEpisode reward: 500.00\tExp moving avg: 494.67\tMean-100 episodes: 441.09\n",
            "Episode 660\tEpisode reward: 500.00\tExp moving avg: 496.81\tMean-100 episodes: 452.69\n",
            "Episode 670\tEpisode reward: 500.00\tExp moving avg: 498.09\tMean-100 episodes: 475.26\n",
            "SOLVED! Running reward is now 498.0878314629945 and the last episode runs to 499 time steps! Mean rewards over last 100 episodes 475.26\n"
          ],
          "name": "stdout"
        }
      ]
    },
    {
      "cell_type": "code",
      "metadata": {
        "id": "WnG58QNqDcWk",
        "colab_type": "code",
        "colab": {
          "base_uri": "https://localhost:8080/",
          "height": 279
        },
        "outputId": "ca7f3d47-52ab-4b7a-9757-c080cc6033af"
      },
      "source": [
        "plt.plot(total_rewards)\n",
        "plt.plot(mean_rewards)\n",
        "plt.plot()\n",
        "plt.xlabel('Episode')\n",
        "plt.ylabel('Reward')\n",
        "plt.show()"
      ],
      "execution_count": 15,
      "outputs": [
        {
          "output_type": "display_data",
          "data": {
            "image/png": "[encoded data removed]",
            "text/plain": [
              "<Figure size 432x288 with 1 Axes>"
            ]
          },
          "metadata": {
            "tags": [],
            "needs_background": "light"
          }
        }
      ]
    }
  ]
}